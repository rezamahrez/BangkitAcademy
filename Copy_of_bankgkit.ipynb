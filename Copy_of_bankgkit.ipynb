{
  "nbformat": 4,
  "nbformat_minor": 0,
  "metadata": {
    "colab": {
      "name": "Copy of bankgkit.ipynb",
      "provenance": [],
      "include_colab_link": true
    },
    "kernelspec": {
      "name": "python3",
      "display_name": "Python 3"
    }
  },
  "cells": [
    {
      "cell_type": "markdown",
      "metadata": {
        "id": "view-in-github",
        "colab_type": "text"
      },
      "source": [
        "<a href=\"https://colab.research.google.com/github/rezamahrez/BangkitAcademy/blob/master/Copy_of_bankgkit.ipynb\" target=\"_parent\"><img src=\"https://colab.research.google.com/assets/colab-badge.svg\" alt=\"Open In Colab\"/></a>"
      ]
    },
    {
      "cell_type": "code",
      "metadata": {
        "id": "XfwpyYGB2ZOg",
        "colab_type": "code",
        "outputId": "5ef3dd7a-31cd-472a-b417-dc373b4a3624",
        "colab": {
          "base_uri": "https://localhost:8080/",
          "height": 34
        }
      },
      "source": [
        "!pip install -q git+https://github.com/tensorflow/docs"
      ],
      "execution_count": 0,
      "outputs": [
        {
          "output_type": "stream",
          "text": [
            "  Building wheel for tensorflow-docs (setup.py) ... \u001b[?25l\u001b[?25hdone\n"
          ],
          "name": "stdout"
        }
      ]
    },
    {
      "cell_type": "code",
      "metadata": {
        "id": "ULWDXVwiPZ4D",
        "colab_type": "code",
        "colab": {}
      },
      "source": [
        "%tensorflow_version 2.x"
      ],
      "execution_count": 0,
      "outputs": []
    },
    {
      "cell_type": "code",
      "metadata": {
        "id": "30WhIrkT3wUs",
        "colab_type": "code",
        "colab": {}
      },
      "source": [
        "from datetime import datetime,date\n",
        "import pandas as pd\n",
        "from sklearn.preprocessing import LabelEncoder\n",
        "\n",
        "import tensorflow as tf\n",
        "\n",
        "from tensorflow import keras\n",
        "from tensorflow.keras import layers\n",
        "import tensorflow_docs as tfdocs\n",
        "import tensorflow_docs.plots\n",
        "import tensorflow_docs.modeling"
      ],
      "execution_count": 0,
      "outputs": []
    },
    {
      "cell_type": "code",
      "metadata": {
        "id": "F3rjc4WIJiHs",
        "colab_type": "code",
        "outputId": "16c399ad-9107-47b5-8c52-20a327b06408",
        "colab": {
          "base_uri": "https://localhost:8080/",
          "height": 122
        }
      },
      "source": [
        "from google.colab import drive\n",
        "drive.mount('/content/drive')"
      ],
      "execution_count": 0,
      "outputs": [
        {
          "output_type": "stream",
          "text": [
            "Go to this URL in a browser: https://accounts.google.com/o/oauth2/auth?client_id=947318989803-6bn6qk8qdgf4n4g3pfee6491hc0brc4i.apps.googleusercontent.com&redirect_uri=urn%3aietf%3awg%3aoauth%3a2.0%3aoob&response_type=code&scope=email%20https%3a%2f%2fwww.googleapis.com%2fauth%2fdocs.test%20https%3a%2f%2fwww.googleapis.com%2fauth%2fdrive%20https%3a%2f%2fwww.googleapis.com%2fauth%2fdrive.photos.readonly%20https%3a%2f%2fwww.googleapis.com%2fauth%2fpeopleapi.readonly\n",
            "\n",
            "Enter your authorization code:\n",
            "··········\n",
            "Mounted at /content/drive\n"
          ],
          "name": "stdout"
        }
      ]
    },
    {
      "cell_type": "code",
      "metadata": {
        "id": "5_Csn2wZPqAO",
        "colab_type": "code",
        "outputId": "fefba18e-eb37-41c4-ce47-5e7808a376f6",
        "colab": {
          "base_uri": "https://localhost:8080/",
          "height": 864
        }
      },
      "source": [
        "data = pd.read_csv('/content/drive/My Drive/Colab Notebooks/JKM (1).txt',sep=\"|\")\n",
        "data"
      ],
      "execution_count": 0,
      "outputs": [
        {
          "output_type": "execute_result",
          "data": {
            "text/html": [
              "<div>\n",
              "<style scoped>\n",
              "    .dataframe tbody tr th:only-of-type {\n",
              "        vertical-align: middle;\n",
              "    }\n",
              "\n",
              "    .dataframe tbody tr th {\n",
              "        vertical-align: top;\n",
              "    }\n",
              "\n",
              "    .dataframe thead th {\n",
              "        text-align: right;\n",
              "    }\n",
              "</style>\n",
              "<table border=\"1\" class=\"dataframe\">\n",
              "  <thead>\n",
              "    <tr style=\"text-align: right;\">\n",
              "      <th></th>\n",
              "      <th>ID_AGE</th>\n",
              "      <th>ID_TK</th>\n",
              "      <th>KODE_KANTOR</th>\n",
              "      <th>TGL_LAHIR</th>\n",
              "      <th>TGL_KEPESERTAAN</th>\n",
              "      <th>JENIS_KELAMIN</th>\n",
              "      <th>KODE_KLAIM</th>\n",
              "      <th>KET_KLAIM</th>\n",
              "      <th>TGL_AGENDA</th>\n",
              "      <th>TGL_PENETAPAN</th>\n",
              "      <th>TGL_BAYAR</th>\n",
              "      <th>TGL_KEMATIAN</th>\n",
              "      <th>STATUS_AGENDA</th>\n",
              "      <th>STATUS_PENETAPAN</th>\n",
              "      <th>KET_STATUS_AGENDA</th>\n",
              "      <th>X_RINCIAN_MNFT</th>\n",
              "      <th>X_BIAYA_DISETUJUI</th>\n",
              "    </tr>\n",
              "  </thead>\n",
              "  <tbody>\n",
              "    <tr>\n",
              "      <th>0</th>\n",
              "      <td>AGE10573</td>\n",
              "      <td>TK1</td>\n",
              "      <td>B00</td>\n",
              "      <td>05/10/1971</td>\n",
              "      <td>01/08/2011</td>\n",
              "      <td>L</td>\n",
              "      <td>B</td>\n",
              "      <td>MENINGGAL DUNIA PADA SAAT KEPESERTAAN AKTIF</td>\n",
              "      <td>15/12/2015</td>\n",
              "      <td>15/12/2015</td>\n",
              "      <td>15/12/2015</td>\n",
              "      <td>NaN</td>\n",
              "      <td>SELESAI</td>\n",
              "      <td>SELESAI</td>\n",
              "      <td>SELESAI</td>\n",
              "      <td>SANTUNAN BERKALA</td>\n",
              "      <td>4800000.0</td>\n",
              "    </tr>\n",
              "    <tr>\n",
              "      <th>1</th>\n",
              "      <td>AGE10573</td>\n",
              "      <td>TK1</td>\n",
              "      <td>B00</td>\n",
              "      <td>05/10/1971</td>\n",
              "      <td>01/08/2011</td>\n",
              "      <td>L</td>\n",
              "      <td>B</td>\n",
              "      <td>MENINGGAL DUNIA PADA SAAT KEPESERTAAN AKTIF</td>\n",
              "      <td>15/12/2015</td>\n",
              "      <td>15/12/2015</td>\n",
              "      <td>15/12/2015</td>\n",
              "      <td>NaN</td>\n",
              "      <td>SELESAI</td>\n",
              "      <td>SELESAI</td>\n",
              "      <td>SELESAI</td>\n",
              "      <td>BIAYA PEMAKAMAN</td>\n",
              "      <td>3000000.0</td>\n",
              "    </tr>\n",
              "    <tr>\n",
              "      <th>2</th>\n",
              "      <td>AGE10573</td>\n",
              "      <td>TK1</td>\n",
              "      <td>B00</td>\n",
              "      <td>05/10/1971</td>\n",
              "      <td>01/08/2011</td>\n",
              "      <td>L</td>\n",
              "      <td>B</td>\n",
              "      <td>MENINGGAL DUNIA PADA SAAT KEPESERTAAN AKTIF</td>\n",
              "      <td>15/12/2015</td>\n",
              "      <td>15/12/2015</td>\n",
              "      <td>15/12/2015</td>\n",
              "      <td>NaN</td>\n",
              "      <td>SELESAI</td>\n",
              "      <td>SELESAI</td>\n",
              "      <td>SELESAI</td>\n",
              "      <td>SANTUNAN KEMATIAN</td>\n",
              "      <td>16200000.0</td>\n",
              "    </tr>\n",
              "    <tr>\n",
              "      <th>3</th>\n",
              "      <td>AGE10573</td>\n",
              "      <td>TK1</td>\n",
              "      <td>B00</td>\n",
              "      <td>05/10/1971</td>\n",
              "      <td>01/08/2011</td>\n",
              "      <td>L</td>\n",
              "      <td>B</td>\n",
              "      <td>MENINGGAL DUNIA PADA SAAT KEPESERTAAN AKTIF</td>\n",
              "      <td>15/12/2015</td>\n",
              "      <td>15/12/2015</td>\n",
              "      <td>15/12/2015</td>\n",
              "      <td>NaN</td>\n",
              "      <td>SELESAI</td>\n",
              "      <td>SELESAI</td>\n",
              "      <td>SELESAI</td>\n",
              "      <td>BEASISWA PENDIDIKAN</td>\n",
              "      <td>0.0</td>\n",
              "    </tr>\n",
              "    <tr>\n",
              "      <th>4</th>\n",
              "      <td>AGE12993</td>\n",
              "      <td>TK5</td>\n",
              "      <td>J00</td>\n",
              "      <td>05/06/1955</td>\n",
              "      <td>01/07/2011</td>\n",
              "      <td>L</td>\n",
              "      <td>B</td>\n",
              "      <td>MENINGGAL DUNIA PADA SAAT KEPESERTAAN AKTIF</td>\n",
              "      <td>23/12/2015</td>\n",
              "      <td>23/12/2015</td>\n",
              "      <td>28/12/2015</td>\n",
              "      <td>NaN</td>\n",
              "      <td>SELESAI</td>\n",
              "      <td>SELESAI</td>\n",
              "      <td>SELESAI</td>\n",
              "      <td>SANTUNAN KEMATIAN</td>\n",
              "      <td>16200000.0</td>\n",
              "    </tr>\n",
              "    <tr>\n",
              "      <th>...</th>\n",
              "      <td>...</td>\n",
              "      <td>...</td>\n",
              "      <td>...</td>\n",
              "      <td>...</td>\n",
              "      <td>...</td>\n",
              "      <td>...</td>\n",
              "      <td>...</td>\n",
              "      <td>...</td>\n",
              "      <td>...</td>\n",
              "      <td>...</td>\n",
              "      <td>...</td>\n",
              "      <td>...</td>\n",
              "      <td>...</td>\n",
              "      <td>...</td>\n",
              "      <td>...</td>\n",
              "      <td>...</td>\n",
              "      <td>...</td>\n",
              "    </tr>\n",
              "    <tr>\n",
              "      <th>14843</th>\n",
              "      <td>AGE11585</td>\n",
              "      <td>TK14785</td>\n",
              "      <td>N02</td>\n",
              "      <td>NaN</td>\n",
              "      <td>NaN</td>\n",
              "      <td>NaN</td>\n",
              "      <td>2</td>\n",
              "      <td>JKM JAKON</td>\n",
              "      <td>18/12/2015</td>\n",
              "      <td>18/12/2015</td>\n",
              "      <td>18/12/2015</td>\n",
              "      <td>NaN</td>\n",
              "      <td>SELESAI</td>\n",
              "      <td>SELESAI</td>\n",
              "      <td>SELESAI</td>\n",
              "      <td>BEASISWA PENDIDIKAN</td>\n",
              "      <td>0.0</td>\n",
              "    </tr>\n",
              "    <tr>\n",
              "      <th>14844</th>\n",
              "      <td>AGE12357</td>\n",
              "      <td>TK14785</td>\n",
              "      <td>N00</td>\n",
              "      <td>NaN</td>\n",
              "      <td>NaN</td>\n",
              "      <td>NaN</td>\n",
              "      <td>2</td>\n",
              "      <td>JKM JAKON</td>\n",
              "      <td>21/12/2015</td>\n",
              "      <td>21/12/2015</td>\n",
              "      <td>22/12/2015</td>\n",
              "      <td>NaN</td>\n",
              "      <td>SELESAI</td>\n",
              "      <td>SELESAI</td>\n",
              "      <td>SELESAI</td>\n",
              "      <td>BEASISWA PENDIDIKAN</td>\n",
              "      <td>0.0</td>\n",
              "    </tr>\n",
              "    <tr>\n",
              "      <th>14845</th>\n",
              "      <td>AGE12357</td>\n",
              "      <td>TK14785</td>\n",
              "      <td>N00</td>\n",
              "      <td>NaN</td>\n",
              "      <td>NaN</td>\n",
              "      <td>NaN</td>\n",
              "      <td>2</td>\n",
              "      <td>JKM JAKON</td>\n",
              "      <td>21/12/2015</td>\n",
              "      <td>21/12/2015</td>\n",
              "      <td>22/12/2015</td>\n",
              "      <td>NaN</td>\n",
              "      <td>SELESAI</td>\n",
              "      <td>SELESAI</td>\n",
              "      <td>SELESAI</td>\n",
              "      <td>BIAYA PEMAKAMAN</td>\n",
              "      <td>3000000.0</td>\n",
              "    </tr>\n",
              "    <tr>\n",
              "      <th>14846</th>\n",
              "      <td>AGE12357</td>\n",
              "      <td>TK14785</td>\n",
              "      <td>N00</td>\n",
              "      <td>NaN</td>\n",
              "      <td>NaN</td>\n",
              "      <td>NaN</td>\n",
              "      <td>2</td>\n",
              "      <td>JKM JAKON</td>\n",
              "      <td>21/12/2015</td>\n",
              "      <td>21/12/2015</td>\n",
              "      <td>22/12/2015</td>\n",
              "      <td>NaN</td>\n",
              "      <td>SELESAI</td>\n",
              "      <td>SELESAI</td>\n",
              "      <td>SELESAI</td>\n",
              "      <td>SANTUNAN BERKALA</td>\n",
              "      <td>4800000.0</td>\n",
              "    </tr>\n",
              "    <tr>\n",
              "      <th>14847</th>\n",
              "      <td>AGE2781</td>\n",
              "      <td>TK14785</td>\n",
              "      <td>B05</td>\n",
              "      <td>NaN</td>\n",
              "      <td>NaN</td>\n",
              "      <td>NaN</td>\n",
              "      <td>2</td>\n",
              "      <td>JKM JAKON</td>\n",
              "      <td>09/11/2015</td>\n",
              "      <td>09/11/2015</td>\n",
              "      <td>12/11/2015</td>\n",
              "      <td>NaN</td>\n",
              "      <td>SELESAI</td>\n",
              "      <td>SELESAI</td>\n",
              "      <td>SELESAI</td>\n",
              "      <td>BIAYA PEMAKAMAN</td>\n",
              "      <td>3000000.0</td>\n",
              "    </tr>\n",
              "  </tbody>\n",
              "</table>\n",
              "<p>14848 rows × 17 columns</p>\n",
              "</div>"
            ],
            "text/plain": [
              "         ID_AGE    ID_TK  ...       X_RINCIAN_MNFT X_BIAYA_DISETUJUI\n",
              "0      AGE10573      TK1  ...     SANTUNAN BERKALA         4800000.0\n",
              "1      AGE10573      TK1  ...      BIAYA PEMAKAMAN         3000000.0\n",
              "2      AGE10573      TK1  ...    SANTUNAN KEMATIAN        16200000.0\n",
              "3      AGE10573      TK1  ...  BEASISWA PENDIDIKAN               0.0\n",
              "4      AGE12993      TK5  ...    SANTUNAN KEMATIAN        16200000.0\n",
              "...         ...      ...  ...                  ...               ...\n",
              "14843  AGE11585  TK14785  ...  BEASISWA PENDIDIKAN               0.0\n",
              "14844  AGE12357  TK14785  ...  BEASISWA PENDIDIKAN               0.0\n",
              "14845  AGE12357  TK14785  ...      BIAYA PEMAKAMAN         3000000.0\n",
              "14846  AGE12357  TK14785  ...     SANTUNAN BERKALA         4800000.0\n",
              "14847   AGE2781  TK14785  ...      BIAYA PEMAKAMAN         3000000.0\n",
              "\n",
              "[14848 rows x 17 columns]"
            ]
          },
          "metadata": {
            "tags": []
          },
          "execution_count": 42
        }
      ]
    },
    {
      "cell_type": "code",
      "metadata": {
        "id": "_xOhexuLy0qa",
        "colab_type": "code",
        "outputId": "d4d468f8-d4b7-4e80-b4b8-17e99c4b25cd",
        "colab": {
          "base_uri": "https://localhost:8080/",
          "height": 323
        }
      },
      "source": [
        "data.isnull().sum()"
      ],
      "execution_count": 0,
      "outputs": [
        {
          "output_type": "execute_result",
          "data": {
            "text/plain": [
              "ID_AGE                   0\n",
              "ID_TK                    0\n",
              "KODE_KANTOR              0\n",
              "TGL_LAHIR               96\n",
              "TGL_KEPESERTAAN         72\n",
              "JENIS_KELAMIN           76\n",
              "KODE_KLAIM               0\n",
              "KET_KLAIM                0\n",
              "TGL_AGENDA               0\n",
              "TGL_PENETAPAN           36\n",
              "TGL_BAYAR              867\n",
              "TGL_KEMATIAN         14083\n",
              "STATUS_AGENDA            0\n",
              "STATUS_PENETAPAN         0\n",
              "KET_STATUS_AGENDA        0\n",
              "X_RINCIAN_MNFT           0\n",
              "X_BIAYA_DISETUJUI       18\n",
              "dtype: int64"
            ]
          },
          "metadata": {
            "tags": []
          },
          "execution_count": 8
        }
      ]
    },
    {
      "cell_type": "code",
      "metadata": {
        "id": "jXf1OKr92f1o",
        "colab_type": "code",
        "outputId": "f19a3c1e-ccd7-44d5-fa61-847c38f96d5d",
        "colab": {
          "base_uri": "https://localhost:8080/",
          "height": 1000
        }
      },
      "source": [
        "#remove nan value\n",
        "data = data.drop(columns=['TGL_KEMATIAN','TGL_BAYAR','ID_AGE','ID_TK','KODE_KANTOR']) #remove column TGL_KEMATIAN\n",
        "data = data.dropna() #remove row nan value (because dont have so many NaN value in column)\n",
        "data"
      ],
      "execution_count": 0,
      "outputs": [
        {
          "output_type": "execute_result",
          "data": {
            "text/html": [
              "<div>\n",
              "<style scoped>\n",
              "    .dataframe tbody tr th:only-of-type {\n",
              "        vertical-align: middle;\n",
              "    }\n",
              "\n",
              "    .dataframe tbody tr th {\n",
              "        vertical-align: top;\n",
              "    }\n",
              "\n",
              "    .dataframe thead th {\n",
              "        text-align: right;\n",
              "    }\n",
              "</style>\n",
              "<table border=\"1\" class=\"dataframe\">\n",
              "  <thead>\n",
              "    <tr style=\"text-align: right;\">\n",
              "      <th></th>\n",
              "      <th>TGL_LAHIR</th>\n",
              "      <th>TGL_KEPESERTAAN</th>\n",
              "      <th>JENIS_KELAMIN</th>\n",
              "      <th>KODE_KLAIM</th>\n",
              "      <th>KET_KLAIM</th>\n",
              "      <th>TGL_AGENDA</th>\n",
              "      <th>TGL_PENETAPAN</th>\n",
              "      <th>STATUS_AGENDA</th>\n",
              "      <th>STATUS_PENETAPAN</th>\n",
              "      <th>KET_STATUS_AGENDA</th>\n",
              "      <th>X_RINCIAN_MNFT</th>\n",
              "      <th>X_BIAYA_DISETUJUI</th>\n",
              "    </tr>\n",
              "  </thead>\n",
              "  <tbody>\n",
              "    <tr>\n",
              "      <th>0</th>\n",
              "      <td>05/10/1971</td>\n",
              "      <td>01/08/2011</td>\n",
              "      <td>L</td>\n",
              "      <td>B</td>\n",
              "      <td>MENINGGAL DUNIA PADA SAAT KEPESERTAAN AKTIF</td>\n",
              "      <td>15/12/2015</td>\n",
              "      <td>15/12/2015</td>\n",
              "      <td>SELESAI</td>\n",
              "      <td>SELESAI</td>\n",
              "      <td>SELESAI</td>\n",
              "      <td>SANTUNAN BERKALA</td>\n",
              "      <td>4800000.0</td>\n",
              "    </tr>\n",
              "    <tr>\n",
              "      <th>1</th>\n",
              "      <td>05/10/1971</td>\n",
              "      <td>01/08/2011</td>\n",
              "      <td>L</td>\n",
              "      <td>B</td>\n",
              "      <td>MENINGGAL DUNIA PADA SAAT KEPESERTAAN AKTIF</td>\n",
              "      <td>15/12/2015</td>\n",
              "      <td>15/12/2015</td>\n",
              "      <td>SELESAI</td>\n",
              "      <td>SELESAI</td>\n",
              "      <td>SELESAI</td>\n",
              "      <td>BIAYA PEMAKAMAN</td>\n",
              "      <td>3000000.0</td>\n",
              "    </tr>\n",
              "    <tr>\n",
              "      <th>2</th>\n",
              "      <td>05/10/1971</td>\n",
              "      <td>01/08/2011</td>\n",
              "      <td>L</td>\n",
              "      <td>B</td>\n",
              "      <td>MENINGGAL DUNIA PADA SAAT KEPESERTAAN AKTIF</td>\n",
              "      <td>15/12/2015</td>\n",
              "      <td>15/12/2015</td>\n",
              "      <td>SELESAI</td>\n",
              "      <td>SELESAI</td>\n",
              "      <td>SELESAI</td>\n",
              "      <td>SANTUNAN KEMATIAN</td>\n",
              "      <td>16200000.0</td>\n",
              "    </tr>\n",
              "    <tr>\n",
              "      <th>3</th>\n",
              "      <td>05/10/1971</td>\n",
              "      <td>01/08/2011</td>\n",
              "      <td>L</td>\n",
              "      <td>B</td>\n",
              "      <td>MENINGGAL DUNIA PADA SAAT KEPESERTAAN AKTIF</td>\n",
              "      <td>15/12/2015</td>\n",
              "      <td>15/12/2015</td>\n",
              "      <td>SELESAI</td>\n",
              "      <td>SELESAI</td>\n",
              "      <td>SELESAI</td>\n",
              "      <td>BEASISWA PENDIDIKAN</td>\n",
              "      <td>0.0</td>\n",
              "    </tr>\n",
              "    <tr>\n",
              "      <th>4</th>\n",
              "      <td>05/06/1955</td>\n",
              "      <td>01/07/2011</td>\n",
              "      <td>L</td>\n",
              "      <td>B</td>\n",
              "      <td>MENINGGAL DUNIA PADA SAAT KEPESERTAAN AKTIF</td>\n",
              "      <td>23/12/2015</td>\n",
              "      <td>23/12/2015</td>\n",
              "      <td>SELESAI</td>\n",
              "      <td>SELESAI</td>\n",
              "      <td>SELESAI</td>\n",
              "      <td>SANTUNAN KEMATIAN</td>\n",
              "      <td>16200000.0</td>\n",
              "    </tr>\n",
              "    <tr>\n",
              "      <th>...</th>\n",
              "      <td>...</td>\n",
              "      <td>...</td>\n",
              "      <td>...</td>\n",
              "      <td>...</td>\n",
              "      <td>...</td>\n",
              "      <td>...</td>\n",
              "      <td>...</td>\n",
              "      <td>...</td>\n",
              "      <td>...</td>\n",
              "      <td>...</td>\n",
              "      <td>...</td>\n",
              "      <td>...</td>\n",
              "    </tr>\n",
              "    <tr>\n",
              "      <th>14779</th>\n",
              "      <td>19/03/1984</td>\n",
              "      <td>01/09/2011</td>\n",
              "      <td>L</td>\n",
              "      <td>B</td>\n",
              "      <td>MENINGGAL DUNIA PADA SAAT KEPESERTAAN AKTIF</td>\n",
              "      <td>01/12/2015</td>\n",
              "      <td>01/12/2015</td>\n",
              "      <td>SELESAI</td>\n",
              "      <td>SELESAI</td>\n",
              "      <td>SELESAI</td>\n",
              "      <td>BEASISWA PENDIDIKAN</td>\n",
              "      <td>0.0</td>\n",
              "    </tr>\n",
              "    <tr>\n",
              "      <th>14780</th>\n",
              "      <td>23/10/1978</td>\n",
              "      <td>01/07/2011</td>\n",
              "      <td>L</td>\n",
              "      <td>B</td>\n",
              "      <td>MENINGGAL DUNIA PADA SAAT KEPESERTAAN AKTIF</td>\n",
              "      <td>22/12/2015</td>\n",
              "      <td>22/12/2015</td>\n",
              "      <td>SELESAI</td>\n",
              "      <td>SELESAI</td>\n",
              "      <td>SELESAI</td>\n",
              "      <td>BEASISWA PENDIDIKAN</td>\n",
              "      <td>0.0</td>\n",
              "    </tr>\n",
              "    <tr>\n",
              "      <th>14781</th>\n",
              "      <td>23/10/1978</td>\n",
              "      <td>01/07/2011</td>\n",
              "      <td>L</td>\n",
              "      <td>B</td>\n",
              "      <td>MENINGGAL DUNIA PADA SAAT KEPESERTAAN AKTIF</td>\n",
              "      <td>22/12/2015</td>\n",
              "      <td>22/12/2015</td>\n",
              "      <td>SELESAI</td>\n",
              "      <td>SELESAI</td>\n",
              "      <td>SELESAI</td>\n",
              "      <td>SANTUNAN KEMATIAN</td>\n",
              "      <td>16200000.0</td>\n",
              "    </tr>\n",
              "    <tr>\n",
              "      <th>14782</th>\n",
              "      <td>23/10/1978</td>\n",
              "      <td>01/07/2011</td>\n",
              "      <td>L</td>\n",
              "      <td>B</td>\n",
              "      <td>MENINGGAL DUNIA PADA SAAT KEPESERTAAN AKTIF</td>\n",
              "      <td>22/12/2015</td>\n",
              "      <td>22/12/2015</td>\n",
              "      <td>SELESAI</td>\n",
              "      <td>SELESAI</td>\n",
              "      <td>SELESAI</td>\n",
              "      <td>SANTUNAN BERKALA</td>\n",
              "      <td>4800000.0</td>\n",
              "    </tr>\n",
              "    <tr>\n",
              "      <th>14783</th>\n",
              "      <td>23/10/1978</td>\n",
              "      <td>01/07/2011</td>\n",
              "      <td>L</td>\n",
              "      <td>B</td>\n",
              "      <td>MENINGGAL DUNIA PADA SAAT KEPESERTAAN AKTIF</td>\n",
              "      <td>22/12/2015</td>\n",
              "      <td>22/12/2015</td>\n",
              "      <td>SELESAI</td>\n",
              "      <td>SELESAI</td>\n",
              "      <td>SELESAI</td>\n",
              "      <td>BIAYA PEMAKAMAN</td>\n",
              "      <td>3000000.0</td>\n",
              "    </tr>\n",
              "  </tbody>\n",
              "</table>\n",
              "<p>14706 rows × 12 columns</p>\n",
              "</div>"
            ],
            "text/plain": [
              "        TGL_LAHIR TGL_KEPESERTAAN  ...       X_RINCIAN_MNFT X_BIAYA_DISETUJUI\n",
              "0      05/10/1971      01/08/2011  ...     SANTUNAN BERKALA         4800000.0\n",
              "1      05/10/1971      01/08/2011  ...      BIAYA PEMAKAMAN         3000000.0\n",
              "2      05/10/1971      01/08/2011  ...    SANTUNAN KEMATIAN        16200000.0\n",
              "3      05/10/1971      01/08/2011  ...  BEASISWA PENDIDIKAN               0.0\n",
              "4      05/06/1955      01/07/2011  ...    SANTUNAN KEMATIAN        16200000.0\n",
              "...           ...             ...  ...                  ...               ...\n",
              "14779  19/03/1984      01/09/2011  ...  BEASISWA PENDIDIKAN               0.0\n",
              "14780  23/10/1978      01/07/2011  ...  BEASISWA PENDIDIKAN               0.0\n",
              "14781  23/10/1978      01/07/2011  ...    SANTUNAN KEMATIAN        16200000.0\n",
              "14782  23/10/1978      01/07/2011  ...     SANTUNAN BERKALA         4800000.0\n",
              "14783  23/10/1978      01/07/2011  ...      BIAYA PEMAKAMAN         3000000.0\n",
              "\n",
              "[14706 rows x 12 columns]"
            ]
          },
          "metadata": {
            "tags": []
          },
          "execution_count": 43
        }
      ]
    },
    {
      "cell_type": "code",
      "metadata": {
        "id": "AO1wjM0DxgLX",
        "colab_type": "code",
        "outputId": "c36fc6fa-13fd-4125-b696-5f28dbe78c0b",
        "colab": {
          "base_uri": "https://localhost:8080/",
          "height": 68
        }
      },
      "source": [
        "data['JENIS_KELAMIN'].unique()\n",
        "data['JENIS_KELAMIN'].value_counts()"
      ],
      "execution_count": 0,
      "outputs": [
        {
          "output_type": "execute_result",
          "data": {
            "text/plain": [
              "L    11993\n",
              "P     2713\n",
              "Name: JENIS_KELAMIN, dtype: int64"
            ]
          },
          "metadata": {
            "tags": []
          },
          "execution_count": 11
        }
      ]
    },
    {
      "cell_type": "code",
      "metadata": {
        "id": "sxirfkVKxdOd",
        "colab_type": "code",
        "outputId": "df717f17-406f-4103-d167-a41c503eb98d",
        "colab": {
          "base_uri": "https://localhost:8080/",
          "height": 102
        }
      },
      "source": [
        "data['KODE_KLAIM'].unique()\n",
        "data['KODE_KLAIM'].value_counts()"
      ],
      "execution_count": 0,
      "outputs": [
        {
          "output_type": "execute_result",
          "data": {
            "text/plain": [
              "B      11842\n",
              "B2      1363\n",
              "JKM      841\n",
              "B1       660\n",
              "Name: KODE_KLAIM, dtype: int64"
            ]
          },
          "metadata": {
            "tags": []
          },
          "execution_count": 12
        }
      ]
    },
    {
      "cell_type": "code",
      "metadata": {
        "id": "FMN7JOCTvvBS",
        "colab_type": "code",
        "outputId": "4a64bc3e-115b-4965-d26e-502f9493eab3",
        "colab": {
          "base_uri": "https://localhost:8080/",
          "height": 102
        }
      },
      "source": [
        "data['KET_KLAIM'].unique()\n",
        "data['KET_KLAIM'].value_counts()"
      ],
      "execution_count": 0,
      "outputs": [
        {
          "output_type": "execute_result",
          "data": {
            "text/plain": [
              "MENINGGAL DUNIA PADA SAAT KEPESERTAAN AKTIF                               11842\n",
              "MENINGGAL DUNIA DALAM MASA PERLINDUNGAN 6 BULAN, JHT SUDAH DI BAYARKAN     1363\n",
              "JKM                                                                         841\n",
              "MENINGGAL DUNIA DALAM MASA PERLINDUNGAN 6 BULAN                             660\n",
              "Name: KET_KLAIM, dtype: int64"
            ]
          },
          "metadata": {
            "tags": []
          },
          "execution_count": 13
        }
      ]
    },
    {
      "cell_type": "code",
      "metadata": {
        "id": "8_YcijxiwNnO",
        "colab_type": "code",
        "outputId": "74f71a69-89dd-4027-ec4f-7bd6664ece4f",
        "colab": {
          "base_uri": "https://localhost:8080/",
          "height": 102
        }
      },
      "source": [
        "data['STATUS_AGENDA'].unique()\n",
        "data['STATUS_AGENDA'].value_counts()"
      ],
      "execution_count": 0,
      "outputs": [
        {
          "output_type": "execute_result",
          "data": {
            "text/plain": [
              "SELESAI      13893\n",
              "BATAL          767\n",
              "PENETAPAN       25\n",
              "DISETUJUI       21\n",
              "Name: STATUS_AGENDA, dtype: int64"
            ]
          },
          "metadata": {
            "tags": []
          },
          "execution_count": 14
        }
      ]
    },
    {
      "cell_type": "code",
      "metadata": {
        "id": "LaFgc1CVwYj6",
        "colab_type": "code",
        "outputId": "e2530499-e890-4139-8900-65199bf07e5c",
        "colab": {
          "base_uri": "https://localhost:8080/",
          "height": 102
        }
      },
      "source": [
        "data['KET_STATUS_AGENDA'].unique()\n",
        "data['KET_STATUS_AGENDA'].value_counts()"
      ],
      "execution_count": 0,
      "outputs": [
        {
          "output_type": "execute_result",
          "data": {
            "text/plain": [
              "SELESAI      13893\n",
              "BATAL          767\n",
              "PENETAPAN       25\n",
              "DISETUJUI       21\n",
              "Name: KET_STATUS_AGENDA, dtype: int64"
            ]
          },
          "metadata": {
            "tags": []
          },
          "execution_count": 15
        }
      ]
    },
    {
      "cell_type": "code",
      "metadata": {
        "id": "Bc5NIlhGwfJl",
        "colab_type": "code",
        "outputId": "363fb364-08a7-45a3-f986-ef691e958c29",
        "colab": {
          "base_uri": "https://localhost:8080/",
          "height": 102
        }
      },
      "source": [
        "data['X_RINCIAN_MNFT'].unique()\n",
        "data['X_RINCIAN_MNFT'].value_counts()"
      ],
      "execution_count": 0,
      "outputs": [
        {
          "output_type": "execute_result",
          "data": {
            "text/plain": [
              "SANTUNAN KEMATIAN      3795\n",
              "BIAYA PEMAKAMAN        3794\n",
              "SANTUNAN BERKALA       3793\n",
              "BEASISWA PENDIDIKAN    3324\n",
              "Name: X_RINCIAN_MNFT, dtype: int64"
            ]
          },
          "metadata": {
            "tags": []
          },
          "execution_count": 16
        }
      ]
    },
    {
      "cell_type": "code",
      "metadata": {
        "id": "qA3SRk-3yS9-",
        "colab_type": "code",
        "colab": {}
      },
      "source": [
        "#crate function to calculate duration\n",
        "def calculate_duration(inputDate):\n",
        "    inputDate = datetime.strptime(inputDate, \"%d/%m/%Y\").date()\n",
        "    today = date.today()\n",
        "    return today.year - inputDate.year - ((today.month, today.day) < (inputDate.month, inputDate.day))"
      ],
      "execution_count": 0,
      "outputs": []
    },
    {
      "cell_type": "code",
      "metadata": {
        "id": "fcV2PTWdyUtq",
        "colab_type": "code",
        "colab": {}
      },
      "source": [
        "#convert variable has date format to duration\n",
        "data['TGL_LAHIR'] = data['TGL_LAHIR'].apply(calculate_duration)\n",
        "data = data.rename(columns={'TGL_LAHIR': 'UMUR'})\n",
        "data['TGL_KEPESERTAAN'] = data['TGL_KEPESERTAAN'].apply(calculate_duration)\n",
        "data = data.rename(columns={'TGL_KEPESERTAAN': 'LAMA_KEPESERTAAN'})\n",
        "data['TGL_PENETAPAN'] = data['TGL_PENETAPAN'].apply(calculate_duration)\n",
        "data = data.rename(columns={'TGL_PENETAPAN': 'LAMA_PENETAPAN'})\n",
        "data['TGL_AGENDA'] = data['TGL_AGENDA'].apply(calculate_duration)\n",
        "data = data.rename(columns={'TGL_AGENDA': 'LAMA_AGENDA'})"
      ],
      "execution_count": 0,
      "outputs": []
    },
    {
      "cell_type": "code",
      "metadata": {
        "id": "ez7Y8_S169jL",
        "colab_type": "code",
        "outputId": "da3db1dc-7c65-4f30-ecfb-37e0b608ad59",
        "colab": {
          "base_uri": "https://localhost:8080/",
          "height": 1000
        }
      },
      "source": [
        "data"
      ],
      "execution_count": 0,
      "outputs": [
        {
          "output_type": "execute_result",
          "data": {
            "text/html": [
              "<div>\n",
              "<style scoped>\n",
              "    .dataframe tbody tr th:only-of-type {\n",
              "        vertical-align: middle;\n",
              "    }\n",
              "\n",
              "    .dataframe tbody tr th {\n",
              "        vertical-align: top;\n",
              "    }\n",
              "\n",
              "    .dataframe thead th {\n",
              "        text-align: right;\n",
              "    }\n",
              "</style>\n",
              "<table border=\"1\" class=\"dataframe\">\n",
              "  <thead>\n",
              "    <tr style=\"text-align: right;\">\n",
              "      <th></th>\n",
              "      <th>UMUR</th>\n",
              "      <th>LAMA_KEPESERTAAN</th>\n",
              "      <th>JENIS_KELAMIN</th>\n",
              "      <th>KODE_KLAIM</th>\n",
              "      <th>KET_KLAIM</th>\n",
              "      <th>LAMA_AGENDA</th>\n",
              "      <th>LAMA_PENETAPAN</th>\n",
              "      <th>STATUS_AGENDA</th>\n",
              "      <th>STATUS_PENETAPAN</th>\n",
              "      <th>KET_STATUS_AGENDA</th>\n",
              "      <th>X_RINCIAN_MNFT</th>\n",
              "      <th>X_BIAYA_DISETUJUI</th>\n",
              "    </tr>\n",
              "  </thead>\n",
              "  <tbody>\n",
              "    <tr>\n",
              "      <th>0</th>\n",
              "      <td>48</td>\n",
              "      <td>8</td>\n",
              "      <td>L</td>\n",
              "      <td>B</td>\n",
              "      <td>MENINGGAL DUNIA PADA SAAT KEPESERTAAN AKTIF</td>\n",
              "      <td>4</td>\n",
              "      <td>4</td>\n",
              "      <td>SELESAI</td>\n",
              "      <td>SELESAI</td>\n",
              "      <td>SELESAI</td>\n",
              "      <td>SANTUNAN BERKALA</td>\n",
              "      <td>4800000.0</td>\n",
              "    </tr>\n",
              "    <tr>\n",
              "      <th>1</th>\n",
              "      <td>48</td>\n",
              "      <td>8</td>\n",
              "      <td>L</td>\n",
              "      <td>B</td>\n",
              "      <td>MENINGGAL DUNIA PADA SAAT KEPESERTAAN AKTIF</td>\n",
              "      <td>4</td>\n",
              "      <td>4</td>\n",
              "      <td>SELESAI</td>\n",
              "      <td>SELESAI</td>\n",
              "      <td>SELESAI</td>\n",
              "      <td>BIAYA PEMAKAMAN</td>\n",
              "      <td>3000000.0</td>\n",
              "    </tr>\n",
              "    <tr>\n",
              "      <th>2</th>\n",
              "      <td>48</td>\n",
              "      <td>8</td>\n",
              "      <td>L</td>\n",
              "      <td>B</td>\n",
              "      <td>MENINGGAL DUNIA PADA SAAT KEPESERTAAN AKTIF</td>\n",
              "      <td>4</td>\n",
              "      <td>4</td>\n",
              "      <td>SELESAI</td>\n",
              "      <td>SELESAI</td>\n",
              "      <td>SELESAI</td>\n",
              "      <td>SANTUNAN KEMATIAN</td>\n",
              "      <td>16200000.0</td>\n",
              "    </tr>\n",
              "    <tr>\n",
              "      <th>3</th>\n",
              "      <td>48</td>\n",
              "      <td>8</td>\n",
              "      <td>L</td>\n",
              "      <td>B</td>\n",
              "      <td>MENINGGAL DUNIA PADA SAAT KEPESERTAAN AKTIF</td>\n",
              "      <td>4</td>\n",
              "      <td>4</td>\n",
              "      <td>SELESAI</td>\n",
              "      <td>SELESAI</td>\n",
              "      <td>SELESAI</td>\n",
              "      <td>BEASISWA PENDIDIKAN</td>\n",
              "      <td>0.0</td>\n",
              "    </tr>\n",
              "    <tr>\n",
              "      <th>4</th>\n",
              "      <td>64</td>\n",
              "      <td>8</td>\n",
              "      <td>L</td>\n",
              "      <td>B</td>\n",
              "      <td>MENINGGAL DUNIA PADA SAAT KEPESERTAAN AKTIF</td>\n",
              "      <td>4</td>\n",
              "      <td>4</td>\n",
              "      <td>SELESAI</td>\n",
              "      <td>SELESAI</td>\n",
              "      <td>SELESAI</td>\n",
              "      <td>SANTUNAN KEMATIAN</td>\n",
              "      <td>16200000.0</td>\n",
              "    </tr>\n",
              "    <tr>\n",
              "      <th>...</th>\n",
              "      <td>...</td>\n",
              "      <td>...</td>\n",
              "      <td>...</td>\n",
              "      <td>...</td>\n",
              "      <td>...</td>\n",
              "      <td>...</td>\n",
              "      <td>...</td>\n",
              "      <td>...</td>\n",
              "      <td>...</td>\n",
              "      <td>...</td>\n",
              "      <td>...</td>\n",
              "      <td>...</td>\n",
              "    </tr>\n",
              "    <tr>\n",
              "      <th>14779</th>\n",
              "      <td>36</td>\n",
              "      <td>8</td>\n",
              "      <td>L</td>\n",
              "      <td>B</td>\n",
              "      <td>MENINGGAL DUNIA PADA SAAT KEPESERTAAN AKTIF</td>\n",
              "      <td>4</td>\n",
              "      <td>4</td>\n",
              "      <td>SELESAI</td>\n",
              "      <td>SELESAI</td>\n",
              "      <td>SELESAI</td>\n",
              "      <td>BEASISWA PENDIDIKAN</td>\n",
              "      <td>0.0</td>\n",
              "    </tr>\n",
              "    <tr>\n",
              "      <th>14780</th>\n",
              "      <td>41</td>\n",
              "      <td>8</td>\n",
              "      <td>L</td>\n",
              "      <td>B</td>\n",
              "      <td>MENINGGAL DUNIA PADA SAAT KEPESERTAAN AKTIF</td>\n",
              "      <td>4</td>\n",
              "      <td>4</td>\n",
              "      <td>SELESAI</td>\n",
              "      <td>SELESAI</td>\n",
              "      <td>SELESAI</td>\n",
              "      <td>BEASISWA PENDIDIKAN</td>\n",
              "      <td>0.0</td>\n",
              "    </tr>\n",
              "    <tr>\n",
              "      <th>14781</th>\n",
              "      <td>41</td>\n",
              "      <td>8</td>\n",
              "      <td>L</td>\n",
              "      <td>B</td>\n",
              "      <td>MENINGGAL DUNIA PADA SAAT KEPESERTAAN AKTIF</td>\n",
              "      <td>4</td>\n",
              "      <td>4</td>\n",
              "      <td>SELESAI</td>\n",
              "      <td>SELESAI</td>\n",
              "      <td>SELESAI</td>\n",
              "      <td>SANTUNAN KEMATIAN</td>\n",
              "      <td>16200000.0</td>\n",
              "    </tr>\n",
              "    <tr>\n",
              "      <th>14782</th>\n",
              "      <td>41</td>\n",
              "      <td>8</td>\n",
              "      <td>L</td>\n",
              "      <td>B</td>\n",
              "      <td>MENINGGAL DUNIA PADA SAAT KEPESERTAAN AKTIF</td>\n",
              "      <td>4</td>\n",
              "      <td>4</td>\n",
              "      <td>SELESAI</td>\n",
              "      <td>SELESAI</td>\n",
              "      <td>SELESAI</td>\n",
              "      <td>SANTUNAN BERKALA</td>\n",
              "      <td>4800000.0</td>\n",
              "    </tr>\n",
              "    <tr>\n",
              "      <th>14783</th>\n",
              "      <td>41</td>\n",
              "      <td>8</td>\n",
              "      <td>L</td>\n",
              "      <td>B</td>\n",
              "      <td>MENINGGAL DUNIA PADA SAAT KEPESERTAAN AKTIF</td>\n",
              "      <td>4</td>\n",
              "      <td>4</td>\n",
              "      <td>SELESAI</td>\n",
              "      <td>SELESAI</td>\n",
              "      <td>SELESAI</td>\n",
              "      <td>BIAYA PEMAKAMAN</td>\n",
              "      <td>3000000.0</td>\n",
              "    </tr>\n",
              "  </tbody>\n",
              "</table>\n",
              "<p>14706 rows × 12 columns</p>\n",
              "</div>"
            ],
            "text/plain": [
              "       UMUR  LAMA_KEPESERTAAN  ...       X_RINCIAN_MNFT X_BIAYA_DISETUJUI\n",
              "0        48                 8  ...     SANTUNAN BERKALA         4800000.0\n",
              "1        48                 8  ...      BIAYA PEMAKAMAN         3000000.0\n",
              "2        48                 8  ...    SANTUNAN KEMATIAN        16200000.0\n",
              "3        48                 8  ...  BEASISWA PENDIDIKAN               0.0\n",
              "4        64                 8  ...    SANTUNAN KEMATIAN        16200000.0\n",
              "...     ...               ...  ...                  ...               ...\n",
              "14779    36                 8  ...  BEASISWA PENDIDIKAN               0.0\n",
              "14780    41                 8  ...  BEASISWA PENDIDIKAN               0.0\n",
              "14781    41                 8  ...    SANTUNAN KEMATIAN        16200000.0\n",
              "14782    41                 8  ...     SANTUNAN BERKALA         4800000.0\n",
              "14783    41                 8  ...      BIAYA PEMAKAMAN         3000000.0\n",
              "\n",
              "[14706 rows x 12 columns]"
            ]
          },
          "metadata": {
            "tags": []
          },
          "execution_count": 24
        }
      ]
    },
    {
      "cell_type": "code",
      "metadata": {
        "id": "NXhIRXgDE3HG",
        "colab_type": "code",
        "colab": {}
      },
      "source": [
        "# Instatniate LabelEncoder\n",
        "le = LabelEncoder()\n",
        "# LabelEncode Class column of df to change discrete to continues\n",
        "data[\"KET_KLAIM\"] = le.fit_transform(data[\"KET_KLAIM\"])\n",
        "data[\"KODE_KLAIM\"] = le.fit_transform(data[\"KODE_KLAIM\"])\n",
        "data[\"STATUS_AGENDA\"] = le.fit_transform(data[\"STATUS_AGENDA\"])\n",
        "data[\"STATUS_PENETAPAN\"] = le.fit_transform(data[\"STATUS_PENETAPAN\"])\n",
        "data[\"KET_STATUS_AGENDA\"] = le.fit_transform(data[\"KET_STATUS_AGENDA\"])\n",
        "data[\"X_RINCIAN_MNFT\"] = le.fit_transform(data[\"X_RINCIAN_MNFT\"])\n",
        "data[\"JENIS_KELAMIN\"] = le.fit_transform(data[\"JENIS_KELAMIN\"])"
      ],
      "execution_count": 0,
      "outputs": []
    },
    {
      "cell_type": "code",
      "metadata": {
        "id": "3d-4TUhLuq55",
        "colab_type": "code",
        "outputId": "534b6092-ad32-4863-e3f0-4203cb2eb2b5",
        "colab": {
          "base_uri": "https://localhost:8080/",
          "height": 439
        }
      },
      "source": [
        "data"
      ],
      "execution_count": 0,
      "outputs": [
        {
          "output_type": "execute_result",
          "data": {
            "text/html": [
              "<div>\n",
              "<style scoped>\n",
              "    .dataframe tbody tr th:only-of-type {\n",
              "        vertical-align: middle;\n",
              "    }\n",
              "\n",
              "    .dataframe tbody tr th {\n",
              "        vertical-align: top;\n",
              "    }\n",
              "\n",
              "    .dataframe thead th {\n",
              "        text-align: right;\n",
              "    }\n",
              "</style>\n",
              "<table border=\"1\" class=\"dataframe\">\n",
              "  <thead>\n",
              "    <tr style=\"text-align: right;\">\n",
              "      <th></th>\n",
              "      <th>UMUR</th>\n",
              "      <th>LAMA_KEPESERTAAN</th>\n",
              "      <th>JENIS_KELAMIN</th>\n",
              "      <th>KODE_KLAIM</th>\n",
              "      <th>KET_KLAIM</th>\n",
              "      <th>LAMA_AGENDA</th>\n",
              "      <th>LAMA_PENETAPAN</th>\n",
              "      <th>STATUS_AGENDA</th>\n",
              "      <th>STATUS_PENETAPAN</th>\n",
              "      <th>KET_STATUS_AGENDA</th>\n",
              "      <th>X_RINCIAN_MNFT</th>\n",
              "      <th>X_BIAYA_DISETUJUI</th>\n",
              "    </tr>\n",
              "  </thead>\n",
              "  <tbody>\n",
              "    <tr>\n",
              "      <th>0</th>\n",
              "      <td>48</td>\n",
              "      <td>8</td>\n",
              "      <td>0</td>\n",
              "      <td>0</td>\n",
              "      <td>3</td>\n",
              "      <td>4</td>\n",
              "      <td>4</td>\n",
              "      <td>3</td>\n",
              "      <td>3</td>\n",
              "      <td>3</td>\n",
              "      <td>2</td>\n",
              "      <td>4800000.0</td>\n",
              "    </tr>\n",
              "    <tr>\n",
              "      <th>1</th>\n",
              "      <td>48</td>\n",
              "      <td>8</td>\n",
              "      <td>0</td>\n",
              "      <td>0</td>\n",
              "      <td>3</td>\n",
              "      <td>4</td>\n",
              "      <td>4</td>\n",
              "      <td>3</td>\n",
              "      <td>3</td>\n",
              "      <td>3</td>\n",
              "      <td>1</td>\n",
              "      <td>3000000.0</td>\n",
              "    </tr>\n",
              "    <tr>\n",
              "      <th>2</th>\n",
              "      <td>48</td>\n",
              "      <td>8</td>\n",
              "      <td>0</td>\n",
              "      <td>0</td>\n",
              "      <td>3</td>\n",
              "      <td>4</td>\n",
              "      <td>4</td>\n",
              "      <td>3</td>\n",
              "      <td>3</td>\n",
              "      <td>3</td>\n",
              "      <td>3</td>\n",
              "      <td>16200000.0</td>\n",
              "    </tr>\n",
              "    <tr>\n",
              "      <th>3</th>\n",
              "      <td>48</td>\n",
              "      <td>8</td>\n",
              "      <td>0</td>\n",
              "      <td>0</td>\n",
              "      <td>3</td>\n",
              "      <td>4</td>\n",
              "      <td>4</td>\n",
              "      <td>3</td>\n",
              "      <td>3</td>\n",
              "      <td>3</td>\n",
              "      <td>0</td>\n",
              "      <td>0.0</td>\n",
              "    </tr>\n",
              "    <tr>\n",
              "      <th>4</th>\n",
              "      <td>64</td>\n",
              "      <td>8</td>\n",
              "      <td>0</td>\n",
              "      <td>0</td>\n",
              "      <td>3</td>\n",
              "      <td>4</td>\n",
              "      <td>4</td>\n",
              "      <td>3</td>\n",
              "      <td>3</td>\n",
              "      <td>3</td>\n",
              "      <td>3</td>\n",
              "      <td>16200000.0</td>\n",
              "    </tr>\n",
              "    <tr>\n",
              "      <th>...</th>\n",
              "      <td>...</td>\n",
              "      <td>...</td>\n",
              "      <td>...</td>\n",
              "      <td>...</td>\n",
              "      <td>...</td>\n",
              "      <td>...</td>\n",
              "      <td>...</td>\n",
              "      <td>...</td>\n",
              "      <td>...</td>\n",
              "      <td>...</td>\n",
              "      <td>...</td>\n",
              "      <td>...</td>\n",
              "    </tr>\n",
              "    <tr>\n",
              "      <th>14779</th>\n",
              "      <td>36</td>\n",
              "      <td>8</td>\n",
              "      <td>0</td>\n",
              "      <td>0</td>\n",
              "      <td>3</td>\n",
              "      <td>4</td>\n",
              "      <td>4</td>\n",
              "      <td>3</td>\n",
              "      <td>3</td>\n",
              "      <td>3</td>\n",
              "      <td>0</td>\n",
              "      <td>0.0</td>\n",
              "    </tr>\n",
              "    <tr>\n",
              "      <th>14780</th>\n",
              "      <td>41</td>\n",
              "      <td>8</td>\n",
              "      <td>0</td>\n",
              "      <td>0</td>\n",
              "      <td>3</td>\n",
              "      <td>4</td>\n",
              "      <td>4</td>\n",
              "      <td>3</td>\n",
              "      <td>3</td>\n",
              "      <td>3</td>\n",
              "      <td>0</td>\n",
              "      <td>0.0</td>\n",
              "    </tr>\n",
              "    <tr>\n",
              "      <th>14781</th>\n",
              "      <td>41</td>\n",
              "      <td>8</td>\n",
              "      <td>0</td>\n",
              "      <td>0</td>\n",
              "      <td>3</td>\n",
              "      <td>4</td>\n",
              "      <td>4</td>\n",
              "      <td>3</td>\n",
              "      <td>3</td>\n",
              "      <td>3</td>\n",
              "      <td>3</td>\n",
              "      <td>16200000.0</td>\n",
              "    </tr>\n",
              "    <tr>\n",
              "      <th>14782</th>\n",
              "      <td>41</td>\n",
              "      <td>8</td>\n",
              "      <td>0</td>\n",
              "      <td>0</td>\n",
              "      <td>3</td>\n",
              "      <td>4</td>\n",
              "      <td>4</td>\n",
              "      <td>3</td>\n",
              "      <td>3</td>\n",
              "      <td>3</td>\n",
              "      <td>2</td>\n",
              "      <td>4800000.0</td>\n",
              "    </tr>\n",
              "    <tr>\n",
              "      <th>14783</th>\n",
              "      <td>41</td>\n",
              "      <td>8</td>\n",
              "      <td>0</td>\n",
              "      <td>0</td>\n",
              "      <td>3</td>\n",
              "      <td>4</td>\n",
              "      <td>4</td>\n",
              "      <td>3</td>\n",
              "      <td>3</td>\n",
              "      <td>3</td>\n",
              "      <td>1</td>\n",
              "      <td>3000000.0</td>\n",
              "    </tr>\n",
              "  </tbody>\n",
              "</table>\n",
              "<p>14706 rows × 12 columns</p>\n",
              "</div>"
            ],
            "text/plain": [
              "       UMUR  LAMA_KEPESERTAAN  ...  X_RINCIAN_MNFT  X_BIAYA_DISETUJUI\n",
              "0        48                 8  ...               2          4800000.0\n",
              "1        48                 8  ...               1          3000000.0\n",
              "2        48                 8  ...               3         16200000.0\n",
              "3        48                 8  ...               0                0.0\n",
              "4        64                 8  ...               3         16200000.0\n",
              "...     ...               ...  ...             ...                ...\n",
              "14779    36                 8  ...               0                0.0\n",
              "14780    41                 8  ...               0                0.0\n",
              "14781    41                 8  ...               3         16200000.0\n",
              "14782    41                 8  ...               2          4800000.0\n",
              "14783    41                 8  ...               1          3000000.0\n",
              "\n",
              "[14706 rows x 12 columns]"
            ]
          },
          "metadata": {
            "tags": []
          },
          "execution_count": 46
        }
      ]
    },
    {
      "cell_type": "code",
      "metadata": {
        "id": "BCpX965ku4gs",
        "colab_type": "code",
        "colab": {}
      },
      "source": [
        "train_dataset = data.sample(frac=0.8,random_state=0)\n",
        "test_dataset = data.drop(train_dataset.index)"
      ],
      "execution_count": 0,
      "outputs": []
    },
    {
      "cell_type": "code",
      "metadata": {
        "id": "BmAcT7p8u9CQ",
        "colab_type": "code",
        "colab": {}
      },
      "source": [
        "test_dataset"
      ],
      "execution_count": 0,
      "outputs": []
    },
    {
      "cell_type": "code",
      "metadata": {
        "id": "H5Xc5iw6x5Lc",
        "colab_type": "code",
        "outputId": "2d2e13f5-ae04-454a-d646-50b41c9a5632",
        "colab": {
          "base_uri": "https://localhost:8080/",
          "height": 390
        }
      },
      "source": [
        "#calculate decrictive statistic\n",
        "train_stats = train_dataset.describe()\n",
        "train_stats.pop(\"X_BIAYA_DISETUJUI\")\n",
        "train_stats = train_stats.transpose()\n",
        "train_stats"
      ],
      "execution_count": 0,
      "outputs": [
        {
          "output_type": "execute_result",
          "data": {
            "text/html": [
              "<div>\n",
              "<style scoped>\n",
              "    .dataframe tbody tr th:only-of-type {\n",
              "        vertical-align: middle;\n",
              "    }\n",
              "\n",
              "    .dataframe tbody tr th {\n",
              "        vertical-align: top;\n",
              "    }\n",
              "\n",
              "    .dataframe thead th {\n",
              "        text-align: right;\n",
              "    }\n",
              "</style>\n",
              "<table border=\"1\" class=\"dataframe\">\n",
              "  <thead>\n",
              "    <tr style=\"text-align: right;\">\n",
              "      <th></th>\n",
              "      <th>count</th>\n",
              "      <th>mean</th>\n",
              "      <th>std</th>\n",
              "      <th>min</th>\n",
              "      <th>25%</th>\n",
              "      <th>50%</th>\n",
              "      <th>75%</th>\n",
              "      <th>max</th>\n",
              "    </tr>\n",
              "  </thead>\n",
              "  <tbody>\n",
              "    <tr>\n",
              "      <th>UMUR</th>\n",
              "      <td>11765.0</td>\n",
              "      <td>45.994305</td>\n",
              "      <td>17.464071</td>\n",
              "      <td>-30.0</td>\n",
              "      <td>40.0</td>\n",
              "      <td>50.0</td>\n",
              "      <td>57.0</td>\n",
              "      <td>70.0</td>\n",
              "    </tr>\n",
              "    <tr>\n",
              "      <th>LAMA_KEPESERTAAN</th>\n",
              "      <td>11765.0</td>\n",
              "      <td>14.106842</td>\n",
              "      <td>9.335016</td>\n",
              "      <td>4.0</td>\n",
              "      <td>7.0</td>\n",
              "      <td>10.0</td>\n",
              "      <td>20.0</td>\n",
              "      <td>42.0</td>\n",
              "    </tr>\n",
              "    <tr>\n",
              "      <th>JENIS_KELAMIN</th>\n",
              "      <td>11765.0</td>\n",
              "      <td>0.183255</td>\n",
              "      <td>0.386892</td>\n",
              "      <td>0.0</td>\n",
              "      <td>0.0</td>\n",
              "      <td>0.0</td>\n",
              "      <td>0.0</td>\n",
              "      <td>1.0</td>\n",
              "    </tr>\n",
              "    <tr>\n",
              "      <th>KODE_KLAIM</th>\n",
              "      <td>11765.0</td>\n",
              "      <td>0.404505</td>\n",
              "      <td>0.880962</td>\n",
              "      <td>0.0</td>\n",
              "      <td>0.0</td>\n",
              "      <td>0.0</td>\n",
              "      <td>0.0</td>\n",
              "      <td>3.0</td>\n",
              "    </tr>\n",
              "    <tr>\n",
              "      <th>KET_KLAIM</th>\n",
              "      <td>11765.0</td>\n",
              "      <td>2.643349</td>\n",
              "      <td>0.817892</td>\n",
              "      <td>0.0</td>\n",
              "      <td>3.0</td>\n",
              "      <td>3.0</td>\n",
              "      <td>3.0</td>\n",
              "      <td>3.0</td>\n",
              "    </tr>\n",
              "    <tr>\n",
              "      <th>LAMA_AGENDA</th>\n",
              "      <td>11765.0</td>\n",
              "      <td>4.089078</td>\n",
              "      <td>0.329942</td>\n",
              "      <td>4.0</td>\n",
              "      <td>4.0</td>\n",
              "      <td>4.0</td>\n",
              "      <td>4.0</td>\n",
              "      <td>6.0</td>\n",
              "    </tr>\n",
              "    <tr>\n",
              "      <th>LAMA_PENETAPAN</th>\n",
              "      <td>11765.0</td>\n",
              "      <td>4.088483</td>\n",
              "      <td>0.331002</td>\n",
              "      <td>3.0</td>\n",
              "      <td>4.0</td>\n",
              "      <td>4.0</td>\n",
              "      <td>4.0</td>\n",
              "      <td>6.0</td>\n",
              "    </tr>\n",
              "    <tr>\n",
              "      <th>STATUS_AGENDA</th>\n",
              "      <td>11765.0</td>\n",
              "      <td>2.834424</td>\n",
              "      <td>0.680611</td>\n",
              "      <td>0.0</td>\n",
              "      <td>3.0</td>\n",
              "      <td>3.0</td>\n",
              "      <td>3.0</td>\n",
              "      <td>3.0</td>\n",
              "    </tr>\n",
              "    <tr>\n",
              "      <th>STATUS_PENETAPAN</th>\n",
              "      <td>11765.0</td>\n",
              "      <td>2.834424</td>\n",
              "      <td>0.680611</td>\n",
              "      <td>0.0</td>\n",
              "      <td>3.0</td>\n",
              "      <td>3.0</td>\n",
              "      <td>3.0</td>\n",
              "      <td>3.0</td>\n",
              "    </tr>\n",
              "    <tr>\n",
              "      <th>KET_STATUS_AGENDA</th>\n",
              "      <td>11765.0</td>\n",
              "      <td>2.834424</td>\n",
              "      <td>0.680611</td>\n",
              "      <td>0.0</td>\n",
              "      <td>3.0</td>\n",
              "      <td>3.0</td>\n",
              "      <td>3.0</td>\n",
              "      <td>3.0</td>\n",
              "    </tr>\n",
              "    <tr>\n",
              "      <th>X_RINCIAN_MNFT</th>\n",
              "      <td>11765.0</td>\n",
              "      <td>1.552061</td>\n",
              "      <td>1.101503</td>\n",
              "      <td>0.0</td>\n",
              "      <td>1.0</td>\n",
              "      <td>2.0</td>\n",
              "      <td>3.0</td>\n",
              "      <td>3.0</td>\n",
              "    </tr>\n",
              "  </tbody>\n",
              "</table>\n",
              "</div>"
            ],
            "text/plain": [
              "                     count       mean        std   min   25%   50%   75%   max\n",
              "UMUR               11765.0  45.994305  17.464071 -30.0  40.0  50.0  57.0  70.0\n",
              "LAMA_KEPESERTAAN   11765.0  14.106842   9.335016   4.0   7.0  10.0  20.0  42.0\n",
              "JENIS_KELAMIN      11765.0   0.183255   0.386892   0.0   0.0   0.0   0.0   1.0\n",
              "KODE_KLAIM         11765.0   0.404505   0.880962   0.0   0.0   0.0   0.0   3.0\n",
              "KET_KLAIM          11765.0   2.643349   0.817892   0.0   3.0   3.0   3.0   3.0\n",
              "LAMA_AGENDA        11765.0   4.089078   0.329942   4.0   4.0   4.0   4.0   6.0\n",
              "LAMA_PENETAPAN     11765.0   4.088483   0.331002   3.0   4.0   4.0   4.0   6.0\n",
              "STATUS_AGENDA      11765.0   2.834424   0.680611   0.0   3.0   3.0   3.0   3.0\n",
              "STATUS_PENETAPAN   11765.0   2.834424   0.680611   0.0   3.0   3.0   3.0   3.0\n",
              "KET_STATUS_AGENDA  11765.0   2.834424   0.680611   0.0   3.0   3.0   3.0   3.0\n",
              "X_RINCIAN_MNFT     11765.0   1.552061   1.101503   0.0   1.0   2.0   3.0   3.0"
            ]
          },
          "metadata": {
            "tags": []
          },
          "execution_count": 48
        }
      ]
    },
    {
      "cell_type": "code",
      "metadata": {
        "id": "pyJAV-8ryvsR",
        "colab_type": "code",
        "colab": {}
      },
      "source": [
        "train_labels = train_dataset.pop('X_BIAYA_DISETUJUI')"
      ],
      "execution_count": 0,
      "outputs": []
    },
    {
      "cell_type": "code",
      "metadata": {
        "id": "4SuDvqyNzHkT",
        "colab_type": "code",
        "outputId": "6a8fc23e-933c-4cae-b87d-38e38584e9e0",
        "colab": {
          "base_uri": "https://localhost:8080/",
          "height": 221
        }
      },
      "source": [
        "train_labels"
      ],
      "execution_count": 0,
      "outputs": [
        {
          "output_type": "execute_result",
          "data": {
            "text/plain": [
              "10266     4800000.0\n",
              "4987            0.0\n",
              "1538     16200000.0\n",
              "6213     16200000.0\n",
              "1097      3000000.0\n",
              "            ...    \n",
              "6126      2000000.0\n",
              "10504    14200000.0\n",
              "5444      3000000.0\n",
              "6687     16200000.0\n",
              "3568      3000000.0\n",
              "Name: X_BIAYA_DISETUJUI, Length: 11765, dtype: float64"
            ]
          },
          "metadata": {
            "tags": []
          },
          "execution_count": 50
        }
      ]
    },
    {
      "cell_type": "code",
      "metadata": {
        "id": "w_UyaUnCzLoT",
        "colab_type": "code",
        "colab": {}
      },
      "source": [
        "test_labels = test_dataset.pop('X_BIAYA_DISETUJUI')"
      ],
      "execution_count": 0,
      "outputs": []
    },
    {
      "cell_type": "code",
      "metadata": {
        "id": "kVzUXDoxzP1a",
        "colab_type": "code",
        "outputId": "50961368-5203-49e5-822e-db3eb66cb71a",
        "colab": {
          "base_uri": "https://localhost:8080/",
          "height": 221
        }
      },
      "source": [
        "test_labels"
      ],
      "execution_count": 0,
      "outputs": [
        {
          "output_type": "execute_result",
          "data": {
            "text/plain": [
              "0         4800000.0\n",
              "13        2000000.0\n",
              "21        4800000.0\n",
              "25        3000000.0\n",
              "26       16200000.0\n",
              "            ...    \n",
              "14748    14200000.0\n",
              "14749     4800000.0\n",
              "14759    16200000.0\n",
              "14762    14200000.0\n",
              "14781    16200000.0\n",
              "Name: X_BIAYA_DISETUJUI, Length: 2941, dtype: float64"
            ]
          },
          "metadata": {
            "tags": []
          },
          "execution_count": 52
        }
      ]
    },
    {
      "cell_type": "code",
      "metadata": {
        "id": "Tizat2yozTGQ",
        "colab_type": "code",
        "colab": {}
      },
      "source": [
        "#normalisasi datasets\n",
        "def norm(x):\n",
        "  return (x - train_stats['mean']) / train_stats['std']\n",
        "normed_train_data = norm(train_dataset)\n",
        "normed_test_data = norm(test_dataset)"
      ],
      "execution_count": 0,
      "outputs": []
    },
    {
      "cell_type": "code",
      "metadata": {
        "id": "3r0OeheqLG6l",
        "colab_type": "code",
        "outputId": "21cfdf59-8af6-4995-c221-0da25d5bb68b",
        "colab": {
          "base_uri": "https://localhost:8080/",
          "height": 439
        }
      },
      "source": [
        "normed_test_data"
      ],
      "execution_count": 0,
      "outputs": [
        {
          "output_type": "execute_result",
          "data": {
            "text/html": [
              "<div>\n",
              "<style scoped>\n",
              "    .dataframe tbody tr th:only-of-type {\n",
              "        vertical-align: middle;\n",
              "    }\n",
              "\n",
              "    .dataframe tbody tr th {\n",
              "        vertical-align: top;\n",
              "    }\n",
              "\n",
              "    .dataframe thead th {\n",
              "        text-align: right;\n",
              "    }\n",
              "</style>\n",
              "<table border=\"1\" class=\"dataframe\">\n",
              "  <thead>\n",
              "    <tr style=\"text-align: right;\">\n",
              "      <th></th>\n",
              "      <th>UMUR</th>\n",
              "      <th>LAMA_KEPESERTAAN</th>\n",
              "      <th>JENIS_KELAMIN</th>\n",
              "      <th>KODE_KLAIM</th>\n",
              "      <th>KET_KLAIM</th>\n",
              "      <th>LAMA_AGENDA</th>\n",
              "      <th>LAMA_PENETAPAN</th>\n",
              "      <th>STATUS_AGENDA</th>\n",
              "      <th>STATUS_PENETAPAN</th>\n",
              "      <th>KET_STATUS_AGENDA</th>\n",
              "      <th>X_RINCIAN_MNFT</th>\n",
              "    </tr>\n",
              "  </thead>\n",
              "  <tbody>\n",
              "    <tr>\n",
              "      <th>0</th>\n",
              "      <td>0.114847</td>\n",
              "      <td>-0.654187</td>\n",
              "      <td>-0.47366</td>\n",
              "      <td>-0.459163</td>\n",
              "      <td>0.436061</td>\n",
              "      <td>-0.26998</td>\n",
              "      <td>-0.267318</td>\n",
              "      <td>0.243275</td>\n",
              "      <td>0.243275</td>\n",
              "      <td>0.243275</td>\n",
              "      <td>0.406661</td>\n",
              "    </tr>\n",
              "    <tr>\n",
              "      <th>13</th>\n",
              "      <td>0.572930</td>\n",
              "      <td>-0.654187</td>\n",
              "      <td>-0.47366</td>\n",
              "      <td>-0.459163</td>\n",
              "      <td>0.436061</td>\n",
              "      <td>-0.26998</td>\n",
              "      <td>-0.267318</td>\n",
              "      <td>0.243275</td>\n",
              "      <td>0.243275</td>\n",
              "      <td>0.243275</td>\n",
              "      <td>-0.501189</td>\n",
              "    </tr>\n",
              "    <tr>\n",
              "      <th>21</th>\n",
              "      <td>1.031014</td>\n",
              "      <td>-0.654187</td>\n",
              "      <td>-0.47366</td>\n",
              "      <td>-0.459163</td>\n",
              "      <td>0.436061</td>\n",
              "      <td>-0.26998</td>\n",
              "      <td>-0.267318</td>\n",
              "      <td>0.243275</td>\n",
              "      <td>0.243275</td>\n",
              "      <td>0.243275</td>\n",
              "      <td>0.406661</td>\n",
              "    </tr>\n",
              "    <tr>\n",
              "      <th>25</th>\n",
              "      <td>-0.973101</td>\n",
              "      <td>-0.654187</td>\n",
              "      <td>-0.47366</td>\n",
              "      <td>-0.459163</td>\n",
              "      <td>0.436061</td>\n",
              "      <td>-0.26998</td>\n",
              "      <td>-0.267318</td>\n",
              "      <td>0.243275</td>\n",
              "      <td>0.243275</td>\n",
              "      <td>0.243275</td>\n",
              "      <td>-0.501189</td>\n",
              "    </tr>\n",
              "    <tr>\n",
              "      <th>26</th>\n",
              "      <td>-0.973101</td>\n",
              "      <td>-0.654187</td>\n",
              "      <td>-0.47366</td>\n",
              "      <td>-0.459163</td>\n",
              "      <td>0.436061</td>\n",
              "      <td>-0.26998</td>\n",
              "      <td>-0.267318</td>\n",
              "      <td>0.243275</td>\n",
              "      <td>0.243275</td>\n",
              "      <td>0.243275</td>\n",
              "      <td>1.314512</td>\n",
              "    </tr>\n",
              "    <tr>\n",
              "      <th>...</th>\n",
              "      <td>...</td>\n",
              "      <td>...</td>\n",
              "      <td>...</td>\n",
              "      <td>...</td>\n",
              "      <td>...</td>\n",
              "      <td>...</td>\n",
              "      <td>...</td>\n",
              "      <td>...</td>\n",
              "      <td>...</td>\n",
              "      <td>...</td>\n",
              "      <td>...</td>\n",
              "    </tr>\n",
              "    <tr>\n",
              "      <th>14748</th>\n",
              "      <td>0.401149</td>\n",
              "      <td>-0.654187</td>\n",
              "      <td>-0.47366</td>\n",
              "      <td>-0.459163</td>\n",
              "      <td>0.436061</td>\n",
              "      <td>-0.26998</td>\n",
              "      <td>-0.267318</td>\n",
              "      <td>0.243275</td>\n",
              "      <td>0.243275</td>\n",
              "      <td>0.243275</td>\n",
              "      <td>1.314512</td>\n",
              "    </tr>\n",
              "    <tr>\n",
              "      <th>14749</th>\n",
              "      <td>0.401149</td>\n",
              "      <td>-0.654187</td>\n",
              "      <td>-0.47366</td>\n",
              "      <td>-0.459163</td>\n",
              "      <td>0.436061</td>\n",
              "      <td>-0.26998</td>\n",
              "      <td>-0.267318</td>\n",
              "      <td>0.243275</td>\n",
              "      <td>0.243275</td>\n",
              "      <td>0.243275</td>\n",
              "      <td>0.406661</td>\n",
              "    </tr>\n",
              "    <tr>\n",
              "      <th>14759</th>\n",
              "      <td>-0.228716</td>\n",
              "      <td>-0.654187</td>\n",
              "      <td>-0.47366</td>\n",
              "      <td>-0.459163</td>\n",
              "      <td>0.436061</td>\n",
              "      <td>-0.26998</td>\n",
              "      <td>-0.267318</td>\n",
              "      <td>0.243275</td>\n",
              "      <td>0.243275</td>\n",
              "      <td>0.243275</td>\n",
              "      <td>1.314512</td>\n",
              "    </tr>\n",
              "    <tr>\n",
              "      <th>14762</th>\n",
              "      <td>0.630191</td>\n",
              "      <td>-0.654187</td>\n",
              "      <td>-0.47366</td>\n",
              "      <td>-0.459163</td>\n",
              "      <td>0.436061</td>\n",
              "      <td>-0.26998</td>\n",
              "      <td>-0.267318</td>\n",
              "      <td>0.243275</td>\n",
              "      <td>0.243275</td>\n",
              "      <td>0.243275</td>\n",
              "      <td>1.314512</td>\n",
              "    </tr>\n",
              "    <tr>\n",
              "      <th>14781</th>\n",
              "      <td>-0.285976</td>\n",
              "      <td>-0.654187</td>\n",
              "      <td>-0.47366</td>\n",
              "      <td>-0.459163</td>\n",
              "      <td>0.436061</td>\n",
              "      <td>-0.26998</td>\n",
              "      <td>-0.267318</td>\n",
              "      <td>0.243275</td>\n",
              "      <td>0.243275</td>\n",
              "      <td>0.243275</td>\n",
              "      <td>1.314512</td>\n",
              "    </tr>\n",
              "  </tbody>\n",
              "</table>\n",
              "<p>2941 rows × 11 columns</p>\n",
              "</div>"
            ],
            "text/plain": [
              "           UMUR  LAMA_KEPESERTAAN  ...  KET_STATUS_AGENDA  X_RINCIAN_MNFT\n",
              "0      0.114847         -0.654187  ...           0.243275        0.406661\n",
              "13     0.572930         -0.654187  ...           0.243275       -0.501189\n",
              "21     1.031014         -0.654187  ...           0.243275        0.406661\n",
              "25    -0.973101         -0.654187  ...           0.243275       -0.501189\n",
              "26    -0.973101         -0.654187  ...           0.243275        1.314512\n",
              "...         ...               ...  ...                ...             ...\n",
              "14748  0.401149         -0.654187  ...           0.243275        1.314512\n",
              "14749  0.401149         -0.654187  ...           0.243275        0.406661\n",
              "14759 -0.228716         -0.654187  ...           0.243275        1.314512\n",
              "14762  0.630191         -0.654187  ...           0.243275        1.314512\n",
              "14781 -0.285976         -0.654187  ...           0.243275        1.314512\n",
              "\n",
              "[2941 rows x 11 columns]"
            ]
          },
          "metadata": {
            "tags": []
          },
          "execution_count": 72
        }
      ]
    },
    {
      "cell_type": "code",
      "metadata": {
        "id": "JaA4NuL60ku9",
        "colab_type": "code",
        "colab": {}
      },
      "source": [
        "def build_model():\n",
        "  model = keras.Sequential([\n",
        "    layers.Dense(64, activation='relu', input_shape=[len(train_dataset.keys())]),\n",
        "    layers.Dense(64, activation='relu'),\n",
        "    layers.Dense(1)\n",
        "  ])\n",
        "\n",
        "  optimizer = tf.keras.optimizers.RMSprop(0.001)\n",
        "\n",
        "  model.compile(loss='mse',\n",
        "                optimizer=optimizer,\n",
        "                metrics=['mae', 'mse'])\n",
        "  return model"
      ],
      "execution_count": 0,
      "outputs": []
    },
    {
      "cell_type": "code",
      "metadata": {
        "id": "YeT89cHV0n_D",
        "colab_type": "code",
        "colab": {}
      },
      "source": [
        "model = build_model()"
      ],
      "execution_count": 0,
      "outputs": []
    },
    {
      "cell_type": "code",
      "metadata": {
        "id": "56fjlb640r1Z",
        "colab_type": "code",
        "outputId": "696d6d80-8019-417e-f42d-a3e5e3ef3b03",
        "colab": {
          "base_uri": "https://localhost:8080/",
          "height": 255
        }
      },
      "source": [
        "model.summary()"
      ],
      "execution_count": 0,
      "outputs": [
        {
          "output_type": "stream",
          "text": [
            "Model: \"sequential_4\"\n",
            "_________________________________________________________________\n",
            "Layer (type)                 Output Shape              Param #   \n",
            "=================================================================\n",
            "dense_12 (Dense)             (None, 64)                768       \n",
            "_________________________________________________________________\n",
            "dense_13 (Dense)             (None, 64)                4160      \n",
            "_________________________________________________________________\n",
            "dense_14 (Dense)             (None, 1)                 65        \n",
            "=================================================================\n",
            "Total params: 4,993\n",
            "Trainable params: 4,993\n",
            "Non-trainable params: 0\n",
            "_________________________________________________________________\n"
          ],
          "name": "stdout"
        }
      ]
    },
    {
      "cell_type": "code",
      "metadata": {
        "id": "sDESAMTT0u2t",
        "colab_type": "code",
        "outputId": "de4a5cf1-efbe-4b1c-e5ae-524ccff5eaa7",
        "colab": {
          "base_uri": "https://localhost:8080/",
          "height": 187
        }
      },
      "source": [
        "#test model prediction\n",
        "example_batch = normed_train_data[:10]\n",
        "example_result = model.predict(example_batch)\n",
        "example_result"
      ],
      "execution_count": 0,
      "outputs": [
        {
          "output_type": "execute_result",
          "data": {
            "text/plain": [
              "array([[-0.19912153],\n",
              "       [-0.5040983 ],\n",
              "       [-0.59684986],\n",
              "       [-0.75319827],\n",
              "       [-0.33621415],\n",
              "       [-0.5294621 ],\n",
              "       [-0.38017356],\n",
              "       [-0.38011166],\n",
              "       [-0.25464454],\n",
              "       [-0.08401012]], dtype=float32)"
            ]
          },
          "metadata": {
            "tags": []
          },
          "execution_count": 76
        }
      ]
    },
    {
      "cell_type": "code",
      "metadata": {
        "id": "Ebqcyqnf2Lwn",
        "colab_type": "code",
        "outputId": "c9b54218-c650-428b-d5e9-841335e39edb",
        "colab": {
          "base_uri": "https://localhost:8080/",
          "height": 394
        }
      },
      "source": [
        "EPOCHS = 1000\n",
        "\n",
        "history = model.fit(\n",
        "  normed_train_data, train_labels,\n",
        "  epochs=EPOCHS, validation_split = 0.2, verbose=0,\n",
        "  callbacks=[tfdocs.modeling.EpochDots()])"
      ],
      "execution_count": 0,
      "outputs": [
        {
          "output_type": "stream",
          "text": [
            "\n",
            "Epoch: 0, loss:73393743331328.0000,  mae:5934545.0000,  mse:73577806168064.0000,  val_loss:72425773465600.0000,  val_mae:5905531.0000,  val_mse:72576273481728.0000,  \n",
            "....................................................................................................\n",
            "Epoch: 100, loss:7353214697472.0000,  mae:1357234.3750,  mse:7368856305664.0000,  val_loss:7606071984128.0000,  val_mae:1394628.7500,  val_mse:7639214325760.0000,  \n",
            "....................................................................................................\n",
            "Epoch: 200, loss:5608666300416.0000,  mae:584907.1250,  mse:5622864543744.0000,  val_loss:5921826668544.0000,  val_mae:610039.9375,  val_mse:5957306286080.0000,  \n",
            "....................................................................................................\n",
            "Epoch: 300, loss:5506449539072.0000,  mae:512679.5938,  mse:5520685531136.0000,  val_loss:5822772936704.0000,  val_mae:541088.0000,  val_mse:5858809348096.0000,  \n",
            "....................................................................................................\n",
            "Epoch: 400, loss:5467115356160.0000,  mae:448796.5312,  mse:5481618210816.0000,  val_loss:5792044941312.0000,  val_mae:477754.0938,  val_mse:5828145840128.0000,  \n",
            "....................................................................................................\n",
            "Epoch: 500, loss:5435628716032.0000,  mae:427864.9375,  mse:5451681890304.0000,  val_loss:5776980049920.0000,  val_mae:454202.2188,  val_mse:5813113978880.0000,  \n",
            "....................................................................................................\n",
            "Epoch: 600, loss:5432557436928.0000,  mae:417316.4062,  mse:5448709177344.0000,  val_loss:5775864889344.0000,  val_mae:445568.3438,  val_mse:5812027129856.0000,  \n",
            "....................................................................................................\n",
            "Epoch: 700, loss:5435460419584.0000,  mae:408821.3750,  mse:5451136630784.0000,  val_loss:5788864610304.0000,  val_mae:431997.2188,  val_mse:5825142718464.0000,  \n",
            "....................................................................................................\n",
            "Epoch: 800, loss:5431791452160.0000,  mae:397243.5000,  mse:5447930609664.0000,  val_loss:5791100698624.0000,  val_mae:432260.6875,  val_mse:5827405545472.0000,  \n",
            "....................................................................................................\n",
            "Epoch: 900, loss:5432425316352.0000,  mae:399555.9688,  mse:5448095760384.0000,  val_loss:5796789747712.0000,  val_mae:426292.4688,  val_mse:5833135489024.0000,  \n",
            "...................................................................................................."
          ],
          "name": "stdout"
        }
      ]
    },
    {
      "cell_type": "code",
      "metadata": {
        "id": "kT0UWyNO53cv",
        "colab_type": "code",
        "outputId": "d3899e01-ef5f-43fc-f817-a22ee9ef9b49",
        "colab": {
          "base_uri": "https://localhost:8080/",
          "height": 204
        }
      },
      "source": [
        "hist = pd.DataFrame(history.history)\n",
        "hist['epoch'] = history.epoch\n",
        "hist.tail()"
      ],
      "execution_count": 0,
      "outputs": [
        {
          "output_type": "execute_result",
          "data": {
            "text/html": [
              "<div>\n",
              "<style scoped>\n",
              "    .dataframe tbody tr th:only-of-type {\n",
              "        vertical-align: middle;\n",
              "    }\n",
              "\n",
              "    .dataframe tbody tr th {\n",
              "        vertical-align: top;\n",
              "    }\n",
              "\n",
              "    .dataframe thead th {\n",
              "        text-align: right;\n",
              "    }\n",
              "</style>\n",
              "<table border=\"1\" class=\"dataframe\">\n",
              "  <thead>\n",
              "    <tr style=\"text-align: right;\">\n",
              "      <th></th>\n",
              "      <th>loss</th>\n",
              "      <th>mae</th>\n",
              "      <th>mse</th>\n",
              "      <th>val_loss</th>\n",
              "      <th>val_mae</th>\n",
              "      <th>val_mse</th>\n",
              "      <th>epoch</th>\n",
              "    </tr>\n",
              "  </thead>\n",
              "  <tbody>\n",
              "    <tr>\n",
              "      <th>995</th>\n",
              "      <td>5.438140e+12</td>\n",
              "      <td>395626.68750</td>\n",
              "      <td>5.453924e+12</td>\n",
              "      <td>5.805194e+12</td>\n",
              "      <td>425443.21875</td>\n",
              "      <td>5.841590e+12</td>\n",
              "      <td>995</td>\n",
              "    </tr>\n",
              "    <tr>\n",
              "      <th>996</th>\n",
              "      <td>5.435553e+12</td>\n",
              "      <td>396677.59375</td>\n",
              "      <td>5.451590e+12</td>\n",
              "      <td>5.802344e+12</td>\n",
              "      <td>423145.43750</td>\n",
              "      <td>5.838731e+12</td>\n",
              "      <td>996</td>\n",
              "    </tr>\n",
              "    <tr>\n",
              "      <th>997</th>\n",
              "      <td>5.432937e+12</td>\n",
              "      <td>398738.56250</td>\n",
              "      <td>5.448362e+12</td>\n",
              "      <td>5.799324e+12</td>\n",
              "      <td>424209.37500</td>\n",
              "      <td>5.835692e+12</td>\n",
              "      <td>997</td>\n",
              "    </tr>\n",
              "    <tr>\n",
              "      <th>998</th>\n",
              "      <td>1.040630e+13</td>\n",
              "      <td>395951.53125</td>\n",
              "      <td>5.445583e+12</td>\n",
              "      <td>5.805815e+12</td>\n",
              "      <td>423187.06250</td>\n",
              "      <td>5.842219e+12</td>\n",
              "      <td>998</td>\n",
              "    </tr>\n",
              "    <tr>\n",
              "      <th>999</th>\n",
              "      <td>5.434782e+12</td>\n",
              "      <td>394775.25000</td>\n",
              "      <td>5.450750e+12</td>\n",
              "      <td>5.800308e+12</td>\n",
              "      <td>428733.00000</td>\n",
              "      <td>5.836666e+12</td>\n",
              "      <td>999</td>\n",
              "    </tr>\n",
              "  </tbody>\n",
              "</table>\n",
              "</div>"
            ],
            "text/plain": [
              "             loss           mae  ...       val_mse  epoch\n",
              "995  5.438140e+12  395626.68750  ...  5.841590e+12    995\n",
              "996  5.435553e+12  396677.59375  ...  5.838731e+12    996\n",
              "997  5.432937e+12  398738.56250  ...  5.835692e+12    997\n",
              "998  1.040630e+13  395951.53125  ...  5.842219e+12    998\n",
              "999  5.434782e+12  394775.25000  ...  5.836666e+12    999\n",
              "\n",
              "[5 rows x 7 columns]"
            ]
          },
          "metadata": {
            "tags": []
          },
          "execution_count": 78
        }
      ]
    },
    {
      "cell_type": "code",
      "metadata": {
        "id": "_oqQz5-f6L7f",
        "colab_type": "code",
        "colab": {}
      },
      "source": [
        "import matplotlib.pyplot as plt"
      ],
      "execution_count": 0,
      "outputs": []
    },
    {
      "cell_type": "code",
      "metadata": {
        "id": "esWZxMyJ6AkA",
        "colab_type": "code",
        "outputId": "0d8a645e-d236-481e-92e3-cfb91bc18dd0",
        "colab": {
          "base_uri": "https://localhost:8080/",
          "height": 300
        }
      },
      "source": [
        "plotter = tfdocs.plots.HistoryPlotter(smoothing_std=6)\n",
        "\n",
        "plotter.plot({'Basic': history}, metric = \"mae\")\n",
        "plt.ylim([0, 10])\n",
        "plt.ylabel('MAE [X_BIAYA_DISETUJUI]')"
      ],
      "execution_count": 0,
      "outputs": [
        {
          "output_type": "execute_result",
          "data": {
            "text/plain": [
              "Text(0, 0.5, 'MAE [X_BIAYA_DISETUJUI]')"
            ]
          },
          "metadata": {
            "tags": []
          },
          "execution_count": 81
        },
        {
          "output_type": "display_data",
          "data": {
            "image/png": "[encoded data removed]",
            "text/plain": [
              "<Figure size 432x288 with 1 Axes>"
            ]
          },
          "metadata": {
            "tags": []
          }
        }
      ]
    },
    {
      "cell_type": "code",
      "metadata": {
        "id": "s_NyEQgjRMNg",
        "colab_type": "code",
        "outputId": "cea823ff-749b-4a47-8ec2-f460dc931ab6",
        "colab": {
          "base_uri": "https://localhost:8080/",
          "height": 190
        }
      },
      "source": [
        "model = build_model()\n",
        "\n",
        "# The patience parameter is the amount of epochs to check for improvement\n",
        "early_stop = keras.callbacks.EarlyStopping(monitor='val_loss', patience=10)\n",
        "\n",
        "early_history = model.fit(normed_train_data, train_labels, \n",
        "                    epochs=EPOCHS, validation_split = 0.2, verbose=0, \n",
        "                    callbacks=[early_stop, tfdocs.modeling.EpochDots()])"
      ],
      "execution_count": 0,
      "outputs": [
        {
          "output_type": "stream",
          "text": [
            "\n",
            "Epoch: 0, loss:73577831333888.0000,  mae:5934543.0000,  mse:73577722281984.0000,  val_loss:72425572139008.0000,  val_mae:5905522.0000,  val_mse:72576072155136.0000,  \n",
            "....................................................................................................\n",
            "Epoch: 100, loss:7426268463104.0000,  mae:1376043.0000,  mse:7442785632256.0000,  val_loss:7688653635584.0000,  val_mae:1415461.1250,  val_mse:7720103575552.0000,  \n",
            "....................................................................................................\n",
            "Epoch: 200, loss:5684792918016.0000,  mae:612046.9375,  mse:5701532385280.0000,  val_loss:5983588319232.0000,  val_mae:629175.5000,  val_mse:6018408906752.0000,  \n",
            "....................................................................................................\n",
            "Epoch: 300, loss:5541110218752.0000,  mae:522041.0000,  mse:5557474820096.0000,  val_loss:5854611374080.0000,  val_mae:539073.6250,  val_mse:5890383544320.0000,  \n",
            ".................................................................................."
          ],
          "name": "stdout"
        }
      ]
    },
    {
      "cell_type": "code",
      "metadata": {
        "id": "ffqJjwo_HDpJ",
        "colab_type": "code",
        "outputId": "a262aaa7-d2f1-4742-b02a-ab03d5c031f3",
        "colab": {
          "base_uri": "https://localhost:8080/",
          "height": 51
        }
      },
      "source": [
        "loss, mae, mse = model.evaluate(normed_test_data, test_labels, verbose=2)\n",
        "\n",
        "print(\"Testing set Mean Abs Error: {:5.2f} X_BIAYA_DISETUJUI\".format(mae))"
      ],
      "execution_count": 0,
      "outputs": [
        {
          "output_type": "stream",
          "text": [
            "92/92 - 0s - loss: 11987106922496.0000 - mae: 569547.0625 - mse: 11998715707392.0000\n",
            "Testing set Mean Abs Error: 569547.06 X_BIAYA_DISETUJUI\n"
          ],
          "name": "stdout"
        }
      ]
    },
    {
      "cell_type": "code",
      "metadata": {
        "id": "yYVYctCpVP6v",
        "colab_type": "code",
        "outputId": "3cf48af1-9b70-4bd1-d400-db79ab5801af",
        "colab": {
          "base_uri": "https://localhost:8080/",
          "height": 283
        }
      },
      "source": [
        "test_predictions = model.predict(normed_test_data).flatten()\n",
        "\n",
        "a = plt.axes(aspect='equal')\n",
        "plt.scatter(test_labels, test_predictions)\n",
        "plt.xlabel('True Values [MPG]')\n",
        "plt.ylabel('Predictions [MPG]')\n",
        "lims = [0, 50]\n",
        "plt.xlim(lims)\n",
        "plt.ylim(lims)\n",
        "_ = plt.plot(lims, lims)"
      ],
      "execution_count": 0,
      "outputs": [
        {
          "output_type": "display_data",
          "data": {
            "image/png": "[encoded data removed]",
            "text/plain": [
              "<Figure size 432x288 with 1 Axes>"
            ]
          },
          "metadata": {
            "tags": []
          }
        }
      ]
    },
    {
      "cell_type": "code",
      "metadata": {
        "id": "vTCnWLf2akPm",
        "colab_type": "code",
        "outputId": "7f4e855b-03f8-4a90-fe02-e8964e470c3f",
        "colab": {
          "base_uri": "https://localhost:8080/",
          "height": 51
        }
      },
      "source": [
        "test_predictions"
      ],
      "execution_count": 0,
      "outputs": [
        {
          "output_type": "execute_result",
          "data": {
            "text/plain": [
              "array([ 4804687.,  2674857.,  4800654., ..., 15802762., 15819184.,\n",
              "       15801666.], dtype=float32)"
            ]
          },
          "metadata": {
            "tags": []
          },
          "execution_count": 86
        }
      ]
    },
    {
      "cell_type": "code",
      "metadata": {
        "id": "_ul5af0xVeN6",
        "colab_type": "code",
        "outputId": "384488e7-4d71-48af-8a56-19f98114cd6f",
        "colab": {
          "base_uri": "https://localhost:8080/",
          "height": 279
        }
      },
      "source": [
        "error = test_predictions - test_labels\n",
        "plt.hist(error, bins = 25)\n",
        "plt.xlabel(\"Prediction Error [MPG]\")\n",
        "_ = plt.ylabel(\"Count\")"
      ],
      "execution_count": 0,
      "outputs": [
        {
          "output_type": "display_data",
          "data": {
            "image/png": "[encoded data removed]",
            "text/plain": [
              "<Figure size 432x288 with 1 Axes>"
            ]
          },
          "metadata": {
            "tags": []
          }
        }
      ]
    }
  ]
}